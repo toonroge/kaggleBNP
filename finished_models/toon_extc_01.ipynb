{
 "cells": [
  {
   "cell_type": "code",
   "execution_count": 10,
   "metadata": {
    "collapsed": true
   },
   "outputs": [],
   "source": [
    "import pandas as pd\n",
    "import numpy as np\n",
    "import csv\n",
    "from sklearn.tree import DecisionTreeClassifier\n",
    "from sklearn.ensemble import ExtraTreesClassifier\n",
    "from sklearn import metrics\n",
    "from sklearn import ensemble\n",
    "from sklearn.metrics import log_loss"
   ]
  },
  {
   "cell_type": "code",
   "execution_count": 11,
   "metadata": {
    "collapsed": false
   },
   "outputs": [
    {
     "name": "stdout",
     "output_type": "stream",
     "text": [
      "Load data...\n"
     ]
    }
   ],
   "source": [
    "print('Load data...')\n",
    "\n",
    "np.random.seed(seed = 444)\n",
    "\n",
    "train = pd.read_csv(\"/Users/rogetoon/Documents/test_python_kaggle/train.csv\")\n",
    "train['rand'] = np.ceil(5 * np.random.random_sample(len(train.index)))\n",
    "train = train.drop(['v8','v23','v25','v31','v36','v37','v46','v51',\n",
    "                    'v53','v54','v63','v73','v75','v79','v81','v82',\n",
    "                    'v89','v92','v95','v105','v107','v108','v109',\n",
    "                    'v110','v116','v117','v118','v119','v123','v124','v128'], axis=1)\n",
    "\n",
    "test = pd.read_csv(\"/Users/rogetoon/Documents/test_python_kaggle/test.csv\")\n",
    "test['rand'] = np.ceil(5 * np.random.random_sample(len(test.index)))\n",
    "test = test.drop(['v8','v23','v25','v31','v36','v37','v46','v51',\n",
    "                  'v53','v54','v63','v73','v75','v79','v81','v82',\n",
    "                  'v89','v92','v95','v105','v107','v108','v109',\n",
    "                  'v110','v116','v117','v118','v119','v123','v124','v128'], axis=1)\n",
    "\n",
    "# ensure we have same variables and in same order\n",
    "cols = train.columns.tolist()\n",
    "test['target'] = 1\n",
    "test = test[cols]"
   ]
  },
  {
   "cell_type": "code",
   "execution_count": 12,
   "metadata": {
    "collapsed": false
   },
   "outputs": [
    {
     "name": "stdout",
     "output_type": "stream",
     "text": [
      "Prepare data...\n"
     ]
    }
   ],
   "source": [
    "print('Prepare data...')\n",
    "\n",
    "for (train_name, train_series), (test_name, test_series) in zip(train.iteritems(), test.iteritems()):\n",
    "    if train_series.dtype == 'O':\n",
    "        #for objects: factorize\n",
    "        train[train_name], tmp_indexer = pd.factorize(train[train_name])\n",
    "        test[test_name] = tmp_indexer.get_indexer(test[test_name])\n",
    "        #but now we have -1 values (NaN)\n",
    "    else:\n",
    "        #for int or float: fill NaN\n",
    "        tmp_len = len(train[train_series.isnull()])\n",
    "        if tmp_len > 0:\n",
    "            #print \"mean\", train_series.mean()\n",
    "            train.loc[train_series.isnull(), train_name] = -999 \n",
    "        #and Test\n",
    "        tmp_len = len(test[test_series.isnull()])\n",
    "        if tmp_len > 0:\n",
    "            test.loc[test_series.isnull(), test_name] = -999"
   ]
  },
  {
   "cell_type": "code",
   "execution_count": 13,
   "metadata": {
    "collapsed": false
   },
   "outputs": [
    {
     "name": "stdout",
     "output_type": "stream",
     "text": [
      "Run interation 1...\n",
      "  Create folds...\n",
      "  Training...\n",
      "  Predicting...\n",
      "Run interation 2...\n",
      "  Create folds...\n",
      "  Training...\n",
      "  Predicting...\n",
      "Run interation 3...\n",
      "  Create folds...\n",
      "  Training...\n",
      "  Predicting...\n",
      "Run interation 4...\n",
      "  Create folds...\n",
      "  Training...\n",
      "  Predicting...\n",
      "Run interation 5...\n",
      "  Create folds...\n",
      "  Training...\n",
      "  Predicting...\n"
     ]
    }
   ],
   "source": [
    "folds = range(1, 6)\n",
    "\n",
    "scores = []\n",
    "test_out = pd.DataFrame([])\n",
    "stacker_out = pd.DataFrame([])\n",
    "\n",
    "for fold in folds:\n",
    "        print('Run interation ' + str(fold) + '...')\n",
    "        print('  Create folds...')\n",
    "        # in fold - for training\n",
    "        X_train = train[train['rand'] != fold].drop(['ID', 'target', 'rand'], axis=1)\n",
    "        y_train = train[train['rand'] != fold]['target'].values       \n",
    "        # out of fold - for predictions\n",
    "        X_val = train[train['rand'] == fold].drop(['ID', 'target', 'rand'], axis=1)\n",
    "        y_val = train[train['rand'] == fold]['target'].values\n",
    "        X_test = test[test['rand'] == fold].drop(['ID', 'target', 'rand'], axis=1)\n",
    "        # for storing meta features\n",
    "        id_val = train[train['rand'] == fold]['ID'].values\n",
    "        id_test = test[test['rand'] == fold]['ID'].values\n",
    "\n",
    "        print('  Training...')\n",
    "        extc = ExtraTreesClassifier(n_estimators=5000, max_features=60, \n",
    "                                    criterion='entropy', min_samples_split=4,\n",
    "                                    max_depth=60, min_samples_leaf=2, n_jobs=-1)    \n",
    "        extc.fit(X_train, y_train) \n",
    "\n",
    "        print('  Predicting...')\n",
    "        y_val_pred = extc.predict_proba(X_val)[:,1]\n",
    "        y_test_pred = extc.predict_proba(X_test)[:,1]\n",
    "        test_out = test_out.append(pd.DataFrame({\"ID\": id_test, \"PredictedProb\": y_test_pred}))\n",
    "        stacker_out = stacker_out.append(pd.DataFrame({\"ID\": id_test, \"PredictedProb\": y_test_pred}))\n",
    "        stacker_out = stacker_out.append(pd.DataFrame({\"ID\": id_val, \"PredictedProb\": y_val_pred}))\n",
    "        scores.append(metrics.log_loss(y_val, y_val_pred))"
   ]
  },
  {
   "cell_type": "code",
   "execution_count": 14,
   "metadata": {
    "collapsed": false
   },
   "outputs": [
    {
     "name": "stdout",
     "output_type": "stream",
     "text": [
      "0.456360800261\n"
     ]
    }
   ],
   "source": [
    "print np.mean(scores)"
   ]
  },
  {
   "cell_type": "code",
   "execution_count": 15,
   "metadata": {
    "collapsed": false
   },
   "outputs": [],
   "source": [
    "test_out.to_csv('toon_extc_01_submission.csv',index=False)\n",
    "stacker_out.to_csv('toon_extc_01_stacker.csv',index=False)"
   ]
  }
 ],
 "metadata": {
  "kernelspec": {
   "display_name": "Python 2",
   "language": "python",
   "name": "python2"
  },
  "language_info": {
   "codemirror_mode": {
    "name": "ipython",
    "version": 2
   },
   "file_extension": ".py",
   "mimetype": "text/x-python",
   "name": "python",
   "nbconvert_exporter": "python",
   "pygments_lexer": "ipython2",
   "version": "2.7.11"
  }
 },
 "nbformat": 4,
 "nbformat_minor": 0
}
